{
 "cells": [
  {
   "cell_type": "code",
   "execution_count": 1,
   "metadata": {},
   "outputs": [],
   "source": [
    "import pandas as pd\n",
    "import numpy as  np\n",
    "import seaborn as sns\n",
    "import math\n",
    "from sklearn.preprocessing import LabelEncoder\n",
    "from sklearn.ensemble import RandomForestRegressor\n",
    "from sklearn.ensemble import RandomForestClassifier\n",
    "import matplotlib.pyplot as plt\n",
    "from sklearn.model_selection import KFold\n",
    "from sklearn.model_selection import cross_val_score\n",
    "from statistics import mode\n",
    "from sklearn.ensemble import GradientBoostingRegressor\n",
    "import matplotlib.ticker as tick\n",
    "from sklearn.model_selection import GridSearchCV\n",
    "from pylab import rcParams\n",
    "from sklearn.model_selection import StratifiedKFold\n",
    "from sklearn.model_selection import train_test_split\n",
    "from sklearn.linear_model import LinearRegression\n",
    "%matplotlib inline"
   ]
  },
  {
   "cell_type": "code",
   "execution_count": 2,
   "metadata": {},
   "outputs": [],
   "source": [
    "train = pd.read_csv('train.csv')\n",
    "test=pd.read_csv('test.csv')\n",
    "two=pd.read_csv('1.csv')\n",
    "two_1=pd.read_csv('1.csv')"
   ]
  },
  {
   "cell_type": "code",
   "execution_count": 3,
   "metadata": {},
   "outputs": [],
   "source": [
    "j=-1\n",
    "for i in two.loc[:,'GarageArea']:\n",
    "    j=j+1\n",
    "    if i==0.0:\n",
    "        two.loc[j,['GarageFinish','GarageQual','GarageCond','GarageType']]=two.loc[j,['GarageFinish','GarageQual','GarageCond','GarageType']].fillna('NA')\n",
    "two.loc[2576,['GarageArea']]=two.loc[2576,['GarageArea']].fillna(0)\n",
    "two.loc[[2576],[\"GarageQual\",\"GarageFinish\",\"GarageCond\", \"GarageCars\"]]=two.loc[[2576],[\"GarageQual\",\"GarageFinish\",\"GarageCond\", \"GarageCars\"]].fillna('NA')\n",
    "two.loc[2126,['GarageFinish']]=two.loc[2126,['GarageFinish']].fillna(mode(two['GarageFinish']))\n",
    "two.loc[2126,['GarageQual']]=two.loc[2126,['GarageQual']].fillna(mode(two['GarageQual']))\n",
    "two.loc[2126,['GarageCond']]=two.loc[2126,['GarageCond']].fillna(mode(two['GarageCond']))\n",
    "two.loc[:,\"FireplaceQu\"]=two.loc[:,\"FireplaceQu\"].fillna('NA')\n",
    "j=-1\n",
    "for i in two.loc[:,'TotalBsmtSF']:\n",
    "    j=j+1\n",
    "    if i==0.0:\n",
    "        two.loc[j,['BsmtQual','BsmtCond','BsmtFinType2','BsmtFinType1','BsmtExposure']]=two.loc[j,['BsmtQual','BsmtCond','BsmtFinType2','BsmtFinType1','BsmtExposure']].fillna('NA')\n",
    "        two.loc[j,['BsmtFinSF1','BsmtFinSF2','BsmtUnfSF','BsmtFullBath','BsmtHalfBath']]=two.loc[j,['BsmtFinSF1','BsmtFinSF2','BsmtUnfSF','BsmtFullBath','BsmtHalfBath']].fillna(0)\n",
    "two['BsmtFinType1']=two['BsmtFinType1'].fillna(mode(two['BsmtFinType1']))\n",
    "two['BsmtFinType2']=two['BsmtFinType2'].fillna(mode(two['BsmtFinType2']))\n",
    "two['BsmtExposure']=two['BsmtExposure'].fillna(mode(two['BsmtExposure']))"
   ]
  },
  {
   "cell_type": "code",
   "execution_count": 4,
   "metadata": {},
   "outputs": [],
   "source": [
    "two[\"TotalSF\"] =  two[\"1stFlrSF\"] + two[\"2ndFlrSF\"]+two['TotalBsmtSF']"
   ]
  },
  {
   "cell_type": "code",
   "execution_count": 5,
   "metadata": {},
   "outputs": [],
   "source": [
    "two[\"allBath\"] =  two[\"FullBath\"] + two[\"HalfBath\"]*0.5+two['BsmtFullBath']+two['BsmtHalfBath']*0.5"
   ]
  },
  {
   "cell_type": "code",
   "execution_count": 6,
   "metadata": {},
   "outputs": [],
   "source": [
    "two=two.drop(['TotalBsmtSF','YearBuilt',\"FullBath\",\"HalfBath\",'BsmtFullBath','BsmtHalfBath',\"1stFlrSF\",\"2ndFlrSF\",'PoolQC','MiscFeature','Alley','Fence','BsmtFinSF1','BsmtFinSF2','BsmtUnfSF','BldgType',  'CentralAir', 'Condition1', 'Condition2', 'Electrical','Exterior2nd','Foundation', 'Functional','Heating', 'HouseStyle',  'LandContour', 'LandSlope', 'LotConfig', 'LotShape', 'MasVnrType', 'PavedDrive', 'RoofMatl',  'RoofStyle', 'SaleCondition', 'SaleType', 'Street', 'Utilities'],axis=1)"
   ]
  },
  {
   "cell_type": "code",
   "execution_count": 7,
   "metadata": {},
   "outputs": [],
   "source": [
    "two=two.drop(['MoSold','BsmtFinType2','ScreenPorch','3SsnPorch','EnclosedPorch','OpenPorchSF','OpenPorchSF'],axis=1)"
   ]
  },
  {
   "cell_type": "code",
   "execution_count": 8,
   "metadata": {},
   "outputs": [],
   "source": [
    "train_ID = train.loc[:,['Id']]\n",
    "test_ID = test.loc[:,'Id']\n",
    "y_train= np.log(train['SalePrice'])\n",
    "# split data for training\n",
    "X_train = train.drop('Id',axis=1)\n",
    "X_test = test.drop('Id',axis=1)\n",
    "# dealing with missing data"
   ]
  },
  {
   "cell_type": "code",
   "execution_count": 9,
   "metadata": {},
   "outputs": [],
   "source": [
    "two['MSSubClass']=two['MSSubClass'].map({20:'1-st new',30:'1-st old',40:'1-st all', 45:'1-1/2 un',50:'1-1/2 f',60:'2-st new',70:'2-st old',75:'2-1/2 all age',80:'split or multi',85:'split foyer',90:'DUPLEX',120:'1-st pud',150:'1-1/2 all age',160:'2-st new',180:'pud',190:'2 fami all age and style'})\n",
    "two['ExterQual']=two['ExterQual'].map({'Ex':5,'Gd':4,'TA':3,'Fa':2,'Po':1})\n",
    "two['ExterCond']=two['ExterCond'].map({'Ex':5,'Gd':4,'TA':3,'Fa':2,'Po':1})\n",
    "two['BsmtQual']=two['BsmtQual'].map({'Ex':5,'Gd':4,'TA':3,'Fa':2,'Po':1,'NA':0})\n",
    "two['BsmtCond']=two['BsmtCond'].map({'Gd':4,'TA':3,'Fa':2,'Po':1,'NA':0})\n",
    "two['BsmtExposure']=two['BsmtExposure'].map({'Gd':4,'Av':3,'Mn':2,'No':1,'NA':0})\n",
    "two['BsmtFinType1']=two['BsmtFinType1'].map({'GLQ':6,'ALQ':5,'BLQ':4,'Rec':3,'LwQ':2,'Unf':1,'NA':0})\n",
    "#two['BsmtFinType2']=two['BsmtFinType2'].map({'GLQ':6,'ALQ':5,'BLQ':4,'Rec':3,'LwQ':2,'Unf':1,'NA':0})\n",
    "two['HeatingQC']=two['HeatingQC'].map({'Ex':5,'Gd':4,'TA':3,'Fa':2,'Po':1})\n",
    "two['KitchenQual']=two['KitchenQual'].map({'Ex':5,'Gd':4,'TA':3,'Fa':2,'Po':1})\n",
    "two['BsmtCond']=two['BsmtCond'].map({'Ex':5,'Gd':4,'TA':3,'Fa':2,'Po':1,'NA':0})\n",
    "two['FireplaceQu']=two['FireplaceQu'].map({'Ex':5,'Gd':4,'TA':3,'Fa':2,'Po':1,'NA':0})\n",
    "two['GarageFinish']=two['GarageFinish'].map({'Fin':3,'RFn':2,'Unf':1,'NA':0})\n",
    "two['GarageQual']=two['GarageQual'].map({'Ex':5,'Gd':4,'TA':3,'Fa':2,'Po':1,'NA':0})\n",
    "two['GarageCond']=two['GarageCond'].map({'Ex':5,'Gd':4,'TA':3,'Fa':2,'Po':1,'NA':0})"
   ]
  },
  {
   "cell_type": "code",
   "execution_count": 10,
   "metadata": {},
   "outputs": [],
   "source": [
    "two['Exterior1st']=two['Exterior1st'].map({'Stone':2.5,'ImStucc':2.5,'VinylSd':2,'BrkFace':2,'CemntBd':2,'AsbShng':1,'BrkComm':1,'AsphShn':1,'CBlock':1,'MetalSd':1.5,'WdShing':1.5,'HdBoard':1.5,'Wd Sdng':1.5,'Plywood':1.5,'Stucco':1.5})"
   ]
  },
  {
   "cell_type": "code",
   "execution_count": 11,
   "metadata": {},
   "outputs": [
    {
     "data": {
      "text/plain": [
       "count      1460.000000\n",
       "mean     180921.195890\n",
       "std       79442.502883\n",
       "min       34900.000000\n",
       "25%      129975.000000\n",
       "50%      163000.000000\n",
       "75%      214000.000000\n",
       "max      755000.000000\n",
       "Name: SalePrice, dtype: float64"
      ]
     },
     "execution_count": 11,
     "metadata": {},
     "output_type": "execute_result"
    }
   ],
   "source": [
    "two['SalePrice'].describe()"
   ]
  },
  {
   "cell_type": "code",
   "execution_count": 12,
   "metadata": {},
   "outputs": [],
   "source": [
    "a=two.loc[:,'LotFrontage'].mean()\n",
    "two.loc[:,'LotFrontage']=two.loc[:,'LotFrontage'].fillna(a)"
   ]
  },
  {
   "cell_type": "code",
   "execution_count": 13,
   "metadata": {},
   "outputs": [],
   "source": [
    "two.loc[:,['GarageType']]=two.loc[:,'GarageType'].map({'Attchd':1,'Detchd':1,'BuiltIn':1,'CarPort':1,'NA':0,'Basment':1,'2Types':1})"
   ]
  },
  {
   "cell_type": "code",
   "execution_count": 14,
   "metadata": {},
   "outputs": [],
   "source": [
    "two['GarageCars']= two['GarageCars'].map({'NA':0})"
   ]
  },
  {
   "cell_type": "code",
   "execution_count": 15,
   "metadata": {},
   "outputs": [
    {
     "data": {
      "text/plain": [
       "1    2762\n",
       "0     157\n",
       "Name: GarageType, dtype: int64"
      ]
     },
     "execution_count": 15,
     "metadata": {},
     "output_type": "execute_result"
    }
   ],
   "source": [
    "two['GarageType'].value_counts(dropna=False)"
   ]
  },
  {
   "cell_type": "code",
   "execution_count": 16,
   "metadata": {},
   "outputs": [
    {
     "data": {
      "text/plain": [
       "1-st new                    1079\n",
       "2-st new                     703\n",
       "1-1/2 f                      287\n",
       "1-st pud                     182\n",
       "1-st old                     139\n",
       "2-st old                     128\n",
       "split or multi               118\n",
       "DUPLEX                       109\n",
       "2 fami all age and style      61\n",
       "split foyer                   48\n",
       "2-1/2 all age                 23\n",
       "1-1/2 un                      18\n",
       "pud                           17\n",
       "1-st all                       6\n",
       "1-1/2 all age                  1\n",
       "Name: MSSubClass, dtype: int64"
      ]
     },
     "execution_count": 16,
     "metadata": {},
     "output_type": "execute_result"
    }
   ],
   "source": [
    "two['MSSubClass'].value_counts(dropna=False)"
   ]
  },
  {
   "cell_type": "code",
   "execution_count": 17,
   "metadata": {},
   "outputs": [],
   "source": [
    "dx = 250000\n",
    "xmin, xmax = -400000,400000\n",
    "x = np.arange(xmin, xmax+dx, dx)"
   ]
  },
  {
   "cell_type": "code",
   "execution_count": 18,
   "metadata": {},
   "outputs": [],
   "source": [
    "j=-1\n",
    "for i in two['YearRemodAdd']:\n",
    "    j+=1\n",
    "    if i>1980:\n",
    "        two.loc[j,'YearRemodAdd']=1\n",
    "    else:\n",
    "        two.loc[j,'YearRemodAdd']=0"
   ]
  },
  {
   "cell_type": "code",
   "execution_count": 19,
   "metadata": {},
   "outputs": [],
   "source": [
    "#plt.hist(two['YearBuilt'],bins=50,range=(1870, 2010))"
   ]
  },
  {
   "cell_type": "code",
   "execution_count": 20,
   "metadata": {},
   "outputs": [
    {
     "data": {
      "text/plain": [
       "1    1693\n",
       "0    1226\n",
       "Name: YearRemodAdd, dtype: int64"
      ]
     },
     "execution_count": 20,
     "metadata": {},
     "output_type": "execute_result"
    }
   ],
   "source": [
    "two['YearRemodAdd'].value_counts(dropna=False)"
   ]
  },
  {
   "cell_type": "code",
   "execution_count": 21,
   "metadata": {},
   "outputs": [],
   "source": [
    "two['Neighborhood']=two['Neighborhood'].map({'NoRidge':3.25,'NridgHt':3.25,'StoneBr':3,'Veenker':2.25,'Somerst':2.25,'Timber':2.25,'CollgCr':2.0,'Crawfor':2.0,'Gilbert':2.0,'ClearCr':2.0,'Blmngtn':2.0,'SawyerW':1.75,'NWAmes':1.75,'Blueste':1.5,'SWISU':1.5,'NPkVill':1.5,'NAmes':1.5,'Mitchel':1.5,'IDOTRR':1,'MeadowV':1,'BrDale':1,'OldTown':1.25,'BrkSide':1.25,'Sawyer':1.25,'Edwards':1.25})"
   ]
  },
  {
   "cell_type": "code",
   "execution_count": 22,
   "metadata": {},
   "outputs": [
    {
     "data": {
      "text/plain": [
       "1-st new                    1079\n",
       "2-st new                     703\n",
       "1-1/2 f                      287\n",
       "1-st pud                     182\n",
       "1-st old                     139\n",
       "2-st old                     128\n",
       "split or multi               118\n",
       "DUPLEX                       109\n",
       "2 fami all age and style      61\n",
       "split foyer                   48\n",
       "2-1/2 all age                 23\n",
       "1-1/2 un                      18\n",
       "pud                           17\n",
       "1-st all                       6\n",
       "1-1/2 all age                  1\n",
       "Name: MSSubClass, dtype: int64"
      ]
     },
     "execution_count": 22,
     "metadata": {},
     "output_type": "execute_result"
    }
   ],
   "source": [
    "two['MSSubClass'].value_counts(dropna=False)"
   ]
  },
  {
   "cell_type": "code",
   "execution_count": 23,
   "metadata": {},
   "outputs": [],
   "source": [
    "#two=pd.concat([two.drop('MSSubClass', axis=1),pd.get_dummies(two['MSSubClass'])], axis=1)\n",
    "#pd.get_dummies(two['MSSubClass'])"
   ]
  },
  {
   "cell_type": "code",
   "execution_count": 24,
   "metadata": {},
   "outputs": [
    {
     "data": {
      "text/plain": [
       "1    2762\n",
       "0     157\n",
       "Name: GarageType, dtype: int64"
      ]
     },
     "execution_count": 24,
     "metadata": {},
     "output_type": "execute_result"
    }
   ],
   "source": [
    "two['GarageType'].value_counts(dropna=False)"
   ]
  },
  {
   "cell_type": "code",
   "execution_count": 25,
   "metadata": {},
   "outputs": [],
   "source": [
    "two.to_csv('2.csv')"
   ]
  },
  {
   "cell_type": "code",
   "execution_count": 26,
   "metadata": {},
   "outputs": [],
   "source": [
    "#two=two.drop(['BsmtFinType1' ,'KitchenQual' ,'HeatingQC' ,'GarageFinish','KitchenAbvGr', 'GarageCars' ,'BedroomAbvGr', 'BsmtCond','LowQualFinSF', 'MiscVal' ,'PoolArea','WoodDeckSF', 'MasVnrArea' ,'BsmtExposure', 'Fireplaces' ,'Exterior1st', 'ExterQual' ,'FireplaceQu' ,'ExterCond'],axis=1)"
   ]
  },
  {
   "cell_type": "code",
   "execution_count": 27,
   "metadata": {},
   "outputs": [],
   "source": [
    "#two=two.drop('Unnamed: 0',axis=1)"
   ]
  },
  {
   "cell_type": "code",
   "execution_count": 28,
   "metadata": {},
   "outputs": [],
   "source": [
    "two=two.loc[:,[\"SalePrice\",\"MSSubClass\",\"OverallQual\",\"TotalSF\",\"GarageArea\",\"MSZoning\",\"TotRmsAbvGrd\"]]"
   ]
  },
  {
   "cell_type": "code",
   "execution_count": 29,
   "metadata": {},
   "outputs": [
    {
     "data": {
      "text/plain": [
       "SalePrice       1459\n",
       "MSSubClass         0\n",
       "OverallQual        0\n",
       "TotalSF            0\n",
       "GarageArea         0\n",
       "MSZoning           0\n",
       "TotRmsAbvGrd       0\n",
       "dtype: int64"
      ]
     },
     "execution_count": 29,
     "metadata": {},
     "output_type": "execute_result"
    }
   ],
   "source": [
    "two.isnull().sum()"
   ]
  },
  {
   "cell_type": "code",
   "execution_count": 30,
   "metadata": {},
   "outputs": [
    {
     "name": "stdout",
     "output_type": "stream",
     "text": [
      "Index(['MSSubClass', 'MSZoning'], dtype='object')\n"
     ]
    }
   ],
   "source": [
    "print(two.select_dtypes(include='object').columns)"
   ]
  },
  {
   "cell_type": "code",
   "execution_count": 31,
   "metadata": {},
   "outputs": [],
   "source": [
    "a= pd.get_dummies(two[['MSSubClass', 'MSZoning']]) \n",
    "two= pd.merge(two, a, left_index=True, right_index=True)"
   ]
  },
  {
   "cell_type": "code",
   "execution_count": 32,
   "metadata": {},
   "outputs": [],
   "source": [
    "two= two.drop(['MSSubClass', 'MSZoning'], axis=1)"
   ]
  },
  {
   "cell_type": "code",
   "execution_count": 96,
   "metadata": {},
   "outputs": [],
   "source": [
    "y_train = two.iloc[:train.shape[0],:]\n",
    "y_train=y_train.loc[:,['SalePrice']]\n",
    "y_train=np.log(y_train['SalePrice'])\n",
    "a=two.drop('SalePrice',axis=1)\n",
    "X_train = a.iloc[:train.shape[0],:]\n",
    "Xtest = a.iloc[train.shape[0]:,:]\n",
    "a=two.loc[:,['SalePrice']]"
   ]
  },
  {
   "cell_type": "code",
   "execution_count": 36,
   "metadata": {},
   "outputs": [],
   "source": [
    "from sklearn.model_selection import StratifiedKFold\n",
    "kf_4 = StratifiedKFold(n_splits=5, shuffle=True, random_state=0)\n",
    "from sklearn.model_selection import cross_val_score"
   ]
  },
  {
   "cell_type": "code",
   "execution_count": 97,
   "metadata": {},
   "outputs": [],
   "source": [
    "X_train, X_test, y_train, y_test = train_test_split(X_train, y_train, test_size = 0.25, random_state = 0)"
   ]
  },
  {
   "cell_type": "code",
   "execution_count": 98,
   "metadata": {},
   "outputs": [
    {
     "data": {
      "text/plain": [
       "RandomForestRegressor(bootstrap=True, criterion='mse', max_depth=None,\n",
       "           max_features='auto', max_leaf_nodes=None,\n",
       "           min_impurity_decrease=0.0, min_impurity_split=None,\n",
       "           min_samples_leaf=1, min_samples_split=2,\n",
       "           min_weight_fraction_leaf=0.0, n_estimators=33, n_jobs=None,\n",
       "           oob_score=False, random_state=0, verbose=0, warm_start=False)"
      ]
     },
     "execution_count": 98,
     "metadata": {},
     "output_type": "execute_result"
    }
   ],
   "source": [
    "rfc_2 = RandomForestRegressor(random_state=0, n_estimators=33)\n",
    "rfc_2.fit(X_train, y_train)"
   ]
  },
  {
   "cell_type": "code",
   "execution_count": 99,
   "metadata": {},
   "outputs": [
    {
     "data": {
      "text/plain": [
       "GradientBoostingRegressor(alpha=0.9, criterion='friedman_mse', init=None,\n",
       "             learning_rate=0.1, loss='ls', max_depth=3, max_features=None,\n",
       "             max_leaf_nodes=None, min_impurity_decrease=0.0,\n",
       "             min_impurity_split=None, min_samples_leaf=1,\n",
       "             min_samples_split=2, min_weight_fraction_leaf=0.0,\n",
       "             n_estimators=100, n_iter_no_change=None, presort='auto',\n",
       "             random_state=0, subsample=1.0, tol=0.0001,\n",
       "             validation_fraction=0.1, verbose=0, warm_start=False)"
      ]
     },
     "execution_count": 99,
     "metadata": {},
     "output_type": "execute_result"
    }
   ],
   "source": [
    "gbct = GradientBoostingRegressor(random_state=0, max_depth=3, learning_rate=0.1)\n",
    "gbct.fit(X_train, y_train)"
   ]
  },
  {
   "cell_type": "code",
   "execution_count": 100,
   "metadata": {},
   "outputs": [
    {
     "name": "stdout",
     "output_type": "stream",
     "text": [
      "train accuracy: 0.906\n",
      "test  accuracy: 0.859\n"
     ]
    }
   ],
   "source": [
    "print('train accuracy: %.3f' % gbct.score(X_train, y_train))\n",
    "print('test  accuracy: %.3f' % gbct.score(X_test, y_test))"
   ]
  },
  {
   "cell_type": "code",
   "execution_count": 101,
   "metadata": {},
   "outputs": [
    {
     "name": "stdout",
     "output_type": "stream",
     "text": [
      "train accuracy: 0.971\n",
      "test  accuracy: 0.836\n"
     ]
    }
   ],
   "source": [
    "print('train accuracy: %.3f' % rfc_2.score(X_train, y_train))\n",
    "print('test  accuracy: %.3f' % rfc_2.score(X_test, y_test))"
   ]
  },
  {
   "cell_type": "code",
   "execution_count": 75,
   "metadata": {},
   "outputs": [],
   "source": [
    "param_grid = {'max_depth': [10, 15, 20, 25, 30, 35],'learning_rate': [0.001, 0.01, 0.1, 1, 10]}"
   ]
  },
  {
   "cell_type": "code",
   "execution_count": 56,
   "metadata": {},
   "outputs": [],
   "source": [
    "from sklearn.model_selection import StratifiedKFold\n",
    "kf_5 = StratifiedKFold(n_splits=5, shuffle=True, random_state=0)"
   ]
  },
  {
   "cell_type": "code",
   "execution_count": 80,
   "metadata": {},
   "outputs": [],
   "source": [
    "gs_gbct= GridSearchCV(gbct, param_grid, cv=kf_5)"
   ]
  },
  {
   "cell_type": "code",
   "execution_count": 79,
   "metadata": {},
   "outputs": [],
   "source": [
    "#gs_gbct .fit(X_train,y_train)"
   ]
  },
  {
   "cell_type": "code",
   "execution_count": 62,
   "metadata": {},
   "outputs": [
    {
     "data": {
      "text/plain": [
       "{'learning_rate': 0.1, 'max_depth': 10}"
      ]
     },
     "execution_count": 62,
     "metadata": {},
     "output_type": "execute_result"
    }
   ],
   "source": [
    "gs_gbct.best_params_"
   ]
  },
  {
   "cell_type": "code",
   "execution_count": 67,
   "metadata": {},
   "outputs": [],
   "source": [
    "param_grid = {'max_depth': [10,11,12,13,14,15],'learning_rate': [0.001, 0.01, 0.1, 1, 10]}"
   ]
  },
  {
   "cell_type": "code",
   "execution_count": null,
   "metadata": {},
   "outputs": [],
   "source": [
    "gs_gbct= GridSearchCV(gbct, param_grid, cv=kf_5)"
   ]
  },
  {
   "cell_type": "code",
   "execution_count": 82,
   "metadata": {},
   "outputs": [
    {
     "data": {
      "text/plain": [
       "{'learning_rate': 0.1, 'max_depth': 5}"
      ]
     },
     "execution_count": 82,
     "metadata": {},
     "output_type": "execute_result"
    }
   ],
   "source": [
    "gs_gbct.best_params_"
   ]
  },
  {
   "cell_type": "code",
   "execution_count": 78,
   "metadata": {},
   "outputs": [],
   "source": [
    "param_grid = {'max_depth': [5, 6, 7, 8, 9, 10],'learning_rate': [0.001, 0.01, 0.1, 1, 10]}"
   ]
  },
  {
   "cell_type": "code",
   "execution_count": 77,
   "metadata": {},
   "outputs": [],
   "source": [
    "#gs_gbct .fit(X_train,y_train)"
   ]
  },
  {
   "cell_type": "code",
   "execution_count": 73,
   "metadata": {},
   "outputs": [
    {
     "data": {
      "text/plain": [
       "{'learning_rate': 0.1, 'max_depth': 10}"
      ]
     },
     "execution_count": 73,
     "metadata": {},
     "output_type": "execute_result"
    }
   ],
   "source": [
    "gs_gbct.best_params_"
   ]
  },
  {
   "cell_type": "code",
   "execution_count": 84,
   "metadata": {},
   "outputs": [],
   "source": [
    "param_grid = {'max_depth': [1,2,3,4,5],'learning_rate': [0.001, 0.01, 0.1, 1, 10]}"
   ]
  },
  {
   "cell_type": "code",
   "execution_count": 85,
   "metadata": {},
   "outputs": [],
   "source": [
    "gs_gbct= GridSearchCV(gbct, param_grid, cv=kf_5)"
   ]
  },
  {
   "cell_type": "code",
   "execution_count": 94,
   "metadata": {},
   "outputs": [],
   "source": [
    "gs_gbct.fit(X_train,y_train)"
   ]
  },
  {
   "cell_type": "code",
   "execution_count": 87,
   "metadata": {},
   "outputs": [
    {
     "data": {
      "text/plain": [
       "{'learning_rate': 0.1, 'max_depth': 3}"
      ]
     },
     "execution_count": 87,
     "metadata": {},
     "output_type": "execute_result"
    }
   ],
   "source": [
    "gs_gbct.best_params_"
   ]
  },
  {
   "cell_type": "code",
   "execution_count": 103,
   "metadata": {},
   "outputs": [
    {
     "name": "stdout",
     "output_type": "stream",
     "text": [
      "0.7189809883213144\n"
     ]
    }
   ],
   "source": [
    "from sklearn.linear_model import LinearRegression\n",
    "lr = LinearRegression()\n",
    "lr.fit(X_train, y_train)\n",
    "print(lr.score(X_test, y_test))"
   ]
  },
  {
   "cell_type": "code",
   "execution_count": 104,
   "metadata": {},
   "outputs": [
    {
     "data": {
      "text/plain": [
       "0.7175950111642985"
      ]
     },
     "execution_count": 104,
     "metadata": {},
     "output_type": "execute_result"
    }
   ],
   "source": [
    "from sklearn.linear_model import Ridge\n",
    "model_ridge = Ridge(alpha=0)  \n",
    "model_ridge.fit(X_train, y_train)\n",
    "model_ridge.score(X_test, y_test)"
   ]
  },
  {
   "cell_type": "code",
   "execution_count": 105,
   "metadata": {},
   "outputs": [
    {
     "data": {
      "text/plain": [
       "0.5554825591047095"
      ]
     },
     "execution_count": 105,
     "metadata": {},
     "output_type": "execute_result"
    }
   ],
   "source": [
    "from sklearn.linear_model import Lasso\n",
    "model_lasso = Lasso(alpha=0.1)\n",
    "model_lasso.fit(X_train, y_train)\n",
    "model_lasso.score(X_test, y_test)"
   ]
  },
  {
   "cell_type": "code",
   "execution_count": 106,
   "metadata": {},
   "outputs": [
    {
     "data": {
      "text/plain": [
       "0.5755543428578886"
      ]
     },
     "execution_count": 106,
     "metadata": {},
     "output_type": "execute_result"
    }
   ],
   "source": [
    "from sklearn.linear_model import ElasticNet\n",
    "en = ElasticNet(alpha=0.1, l1_ratio=0.9)\n",
    "en.fit(X_train, y_train)\n",
    "en.score(X_test, y_test)"
   ]
  },
  {
   "cell_type": "code",
   "execution_count": 47,
   "metadata": {},
   "outputs": [
    {
     "data": {
      "text/plain": [
       "0.6671658013852484"
      ]
     },
     "execution_count": 47,
     "metadata": {},
     "output_type": "execute_result"
    }
   ],
   "source": [
    "from sklearn.linear_model import LinearRegression\n",
    "lr = LinearRegression()\n",
    "lr.fit(X_train, y_train)\n",
    "lr.score(X_test,y_test)"
   ]
  },
  {
   "cell_type": "code",
   "execution_count": 48,
   "metadata": {},
   "outputs": [
    {
     "name": "stderr",
     "output_type": "stream",
     "text": [
      "/Users/yamadakyunari/anaconda3/lib/python3.6/site-packages/ipykernel_launcher.py:1: RuntimeWarning: overflow encountered in power\n",
      "  \"\"\"Entry point for launching an IPython kernel.\n"
     ]
    }
   ],
   "source": [
    "y_test_pred = pow(math.e,rfc_2.predict(Xtest))"
   ]
  },
  {
   "cell_type": "code",
   "execution_count": 51,
   "metadata": {},
   "outputs": [],
   "source": [
    "#y_test_pred=y_test_pred[:,0]"
   ]
  },
  {
   "cell_type": "code",
   "execution_count": 52,
   "metadata": {},
   "outputs": [],
   "source": [
    "submission = pd.DataFrame({\n",
    "    \"Id\": test_ID,  \n",
    "    \"SalePrice\": y_test_pred})\n",
    "submission.to_csv('submission.csv', index=False)"
   ]
  },
  {
   "cell_type": "code",
   "execution_count": 102,
   "metadata": {},
   "outputs": [
    {
     "name": "stderr",
     "output_type": "stream",
     "text": [
      "/Users/yamadakyunari/anaconda3/lib/python3.6/site-packages/scipy/stats/stats.py:1713: FutureWarning: Using a non-tuple sequence for multidimensional indexing is deprecated; use `arr[tuple(seq)]` instead of `arr[seq]`. In the future this will be interpreted as an array index, `arr[np.array(seq)]`, which will result either in an error or a different result.\n",
      "  return np.add.reduce(sorted[indexer] * weights, axis=axis) / sumval\n"
     ]
    },
    {
     "data": {
      "text/plain": [
       "<matplotlib.axes._subplots.AxesSubplot at 0x11ce707b8>"
      ]
     },
     "execution_count": 102,
     "metadata": {},
     "output_type": "execute_result"
    },
    {
     "data": {
      "image/png": "[encoded data removed]",
      "text/plain": [
       "<Figure size 432x288 with 1 Axes>"
      ]
     },
     "metadata": {
      "needs_background": "light"
     },
     "output_type": "display_data"
    }
   ],
   "source": [
    "#plt.hist(train['SalePrice'],bins=50)\n",
    "plt.grid(True) \n",
    "sns.distplot(np.log(train['SalePrice']))"
   ]
  },
  {
   "cell_type": "code",
   "execution_count": null,
   "metadata": {},
   "outputs": [],
   "source": []
  },
  {
   "cell_type": "code",
   "execution_count": null,
   "metadata": {},
   "outputs": [],
   "source": []
  }
 ],
 "metadata": {
  "kernelspec": {
   "display_name": "Python 3",
   "language": "python",
   "name": "python3"
  },
  "language_info": {
   "codemirror_mode": {
    "name": "ipython",
    "version": 3
   },
   "file_extension": ".py",
   "mimetype": "text/x-python",
   "name": "python",
   "nbconvert_exporter": "python",
   "pygments_lexer": "ipython3",
   "version": "3.6.6"
  }
 },
 "nbformat": 4,
 "nbformat_minor": 2
}
